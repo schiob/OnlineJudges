{
 "metadata": {
  "name": "",
  "signature": "sha256:d7325b6cda6abcb4367b308c45574a8f8c5483646075bbade1a3ab897cc58b49"
 },
 "nbformat": 3,
 "nbformat_minor": 0,
 "worksheets": [
  {
   "cells": [
    {
     "cell_type": "code",
     "collapsed": false,
     "input": [
      "n = int(raw_input())\n",
      "line = raw_input()\n",
      "\n",
      "cont = 1\n",
      "lprev = False\n",
      "for l in line:\n",
      "    if lprev:\n",
      "        lprev = False\n",
      "        continue\n",
      "    if l == 'S':\n",
      "        cont += 1\n",
      "    else:\n",
      "        cont += 1\n",
      "        lprev = True\n",
      "print n if cont>n else cont\n"
     ],
     "language": "python",
     "metadata": {},
     "outputs": [
      {
       "name": "stdout",
       "output_type": "stream",
       "stream": "stdout",
       "text": [
        "4\n"
       ]
      },
      {
       "name": "stdout",
       "output_type": "stream",
       "stream": "stdout",
       "text": [
        "LLLL\n"
       ]
      },
      {
       "output_type": "stream",
       "stream": "stdout",
       "text": [
        "3\n"
       ]
      }
     ],
     "prompt_number": 7
    }
   ],
   "metadata": {}
  }
 ]
}