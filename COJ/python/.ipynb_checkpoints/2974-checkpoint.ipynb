{
 "metadata": {
  "name": "",
  "signature": "sha256:20eb90d81fe32dba8fe782490742753ae59052525ec9a2da0991473dfa23b951"
 },
 "nbformat": 3,
 "nbformat_minor": 0,
 "worksheets": [
  {
   "cells": [
    {
     "cell_type": "code",
     "collapsed": false,
     "input": [
      "from itertools import izip_longest\n",
      "\n",
      "ALPHA = ''\n",
      "def comper(B, A):\n",
      "    for pair in izip_longest(A, B, fillvalue='-'):\n",
      "        if pair[0] == '-':\n",
      "            return 1\n",
      "        elif pair[1] == '-':\n",
      "            return -1\n",
      "        elif ALPHA.index(pair[0]) < ALPHA.index(pair[1]):\n",
      "            return 1\n",
      "        elif ALPHA.index(pair[0]) > ALPHA.index(pair[1]):\n",
      "            return -1\n",
      "    return 0\n",
      "\n",
      "line = raw_input()\n",
      "count = 1\n",
      "while line != '0':\n",
      "    n, ALPHA = line.split(' ')\n",
      "    lista = list()\n",
      "    for x in xrange(int(n)):\n",
      "        lista.append(raw_input())\n",
      "    \n",
      "    print 'year {}'.format(count)\n",
      "    count += 1\n",
      "    for pal in sorted(lista, cmp=comper):\n",
      "        print pal\n",
      "    line = raw_input()\n",
      "        "
     ],
     "language": "python",
     "metadata": {},
     "outputs": [
      {
       "name": "stdout",
       "output_type": "stream",
       "stream": "stdout",
       "text": [
        "8 UVWXYZNOPQRSTHIJKLMABCDEFG\n"
       ]
      },
      {
       "name": "stdout",
       "output_type": "stream",
       "stream": "stdout",
       "text": [
        "ANTLER\n"
       ]
      },
      {
       "name": "stdout",
       "output_type": "stream",
       "stream": "stdout",
       "text": [
        "ANY\n"
       ]
      },
      {
       "name": "stdout",
       "output_type": "stream",
       "stream": "stdout",
       "text": [
        "COW\n"
       ]
      },
      {
       "name": "stdout",
       "output_type": "stream",
       "stream": "stdout",
       "text": [
        "HILL\n"
       ]
      },
      {
       "name": "stdout",
       "output_type": "stream",
       "stream": "stdout",
       "text": [
        "HOW\n"
       ]
      },
      {
       "name": "stdout",
       "output_type": "stream",
       "stream": "stdout",
       "text": [
        "HOWEVER\n"
       ]
      },
      {
       "name": "stdout",
       "output_type": "stream",
       "stream": "stdout",
       "text": [
        "WHATEVER\n"
       ]
      },
      {
       "name": "stdout",
       "output_type": "stream",
       "stream": "stdout",
       "text": [
        "ZONE\n"
       ]
      },
      {
       "output_type": "stream",
       "stream": "stdout",
       "text": [
        "year 1\n",
        "WHATEVER\n",
        "ZONE\n",
        "HOW\n",
        "HOWEVER\n",
        "HILL\n",
        "ANY\n",
        "ANTLER\n",
        "COW\n"
       ]
      },
      {
       "name": "stdout",
       "output_type": "stream",
       "stream": "stdout",
       "text": [
        "5 ZYXWVUTSRQPONMLKJIHGFEDCBA\n"
       ]
      },
      {
       "name": "stdout",
       "output_type": "stream",
       "stream": "stdout",
       "text": [
        "GO\n"
       ]
      },
      {
       "name": "stdout",
       "output_type": "stream",
       "stream": "stdout",
       "text": [
        "ALL\n"
       ]
      },
      {
       "name": "stdout",
       "output_type": "stream",
       "stream": "stdout",
       "text": [
        "ACM\n"
       ]
      },
      {
       "name": "stdout",
       "output_type": "stream",
       "stream": "stdout",
       "text": [
        "TEAMS\n"
       ]
      },
      {
       "name": "stdout",
       "output_type": "stream",
       "stream": "stdout",
       "text": [
        "GO\n"
       ]
      },
      {
       "output_type": "stream",
       "stream": "stdout",
       "text": [
        "year 2\n",
        "TEAMS\n",
        "GO\n",
        "GO\n",
        "ALL\n",
        "ACM\n"
       ]
      },
      {
       "name": "stdout",
       "output_type": "stream",
       "stream": "stdout",
       "text": [
        "10 ZOTFISENWABCDGHJKLMPQRUVXY\n"
       ]
      },
      {
       "name": "stdout",
       "output_type": "stream",
       "stream": "stdout",
       "text": [
        "THREE\n"
       ]
      },
      {
       "name": "stdout",
       "output_type": "stream",
       "stream": "stdout",
       "text": [
        "ONE\n"
       ]
      },
      {
       "name": "stdout",
       "output_type": "stream",
       "stream": "stdout",
       "text": [
        "NINE\n"
       ]
      },
      {
       "name": "stdout",
       "output_type": "stream",
       "stream": "stdout",
       "text": [
        "FIVE\n"
       ]
      },
      {
       "name": "stdout",
       "output_type": "stream",
       "stream": "stdout",
       "text": [
        "SEVEN\n"
       ]
      },
      {
       "name": "stdout",
       "output_type": "stream",
       "stream": "stdout",
       "text": [
        "ZERO\n"
       ]
      },
      {
       "name": "stdout",
       "output_type": "stream",
       "stream": "stdout",
       "text": [
        "TWO\n"
       ]
      },
      {
       "name": "stdout",
       "output_type": "stream",
       "stream": "stdout",
       "text": [
        "FOUR\n"
       ]
      },
      {
       "name": "stdout",
       "output_type": "stream",
       "stream": "stdout",
       "text": [
        "EIGHT\n"
       ]
      },
      {
       "name": "stdout",
       "output_type": "stream",
       "stream": "stdout",
       "text": [
        "SIX\n"
       ]
      },
      {
       "output_type": "stream",
       "stream": "stdout",
       "text": [
        "year 3\n",
        "ZERO\n",
        "ONE\n",
        "TWO\n",
        "THREE\n",
        "FOUR\n",
        "FIVE\n",
        "SIX\n",
        "SEVEN\n",
        "EIGHT\n",
        "NINE\n"
       ]
      },
      {
       "name": "stdout",
       "output_type": "stream",
       "stream": "stdout",
       "text": [
        "0\n"
       ]
      }
     ],
     "prompt_number": 7
    }
   ],
   "metadata": {}
  }
 ]
}