{
 "metadata": {
  "name": "",
  "signature": "sha256:3a0f1467e044215ed228a17e9b8ef5f863e569a6fc875d53879abdb001d626fc"
 },
 "nbformat": 3,
 "nbformat_minor": 0,
 "worksheets": [
  {
   "cells": [
    {
     "cell_type": "code",
     "collapsed": false,
     "input": [
      "l = range(1, 2501)\n",
      "lista = [0] * 2501\n",
      "count = 0\n",
      "for x in xrange(1, 2501):\n",
      "    for num in l[:x]:\n",
      "        if x%num == 0:\n",
      "            count += 1\n",
      "    lista[x] = count\n",
      "    count = 0\n",
      "for line in xrange(int(raw_input())):\n",
      "    print lista.index(max(lista[:int(raw_input())+1]))"
     ],
     "language": "python",
     "metadata": {},
     "outputs": [
      {
       "name": "stdout",
       "output_type": "stream",
       "stream": "stdout",
       "text": [
        "1\n"
       ]
      },
      {
       "name": "stdout",
       "output_type": "stream",
       "stream": "stdout",
       "text": [
        "4\n"
       ]
      },
      {
       "output_type": "stream",
       "stream": "stdout",
       "text": [
        "4\n"
       ]
      }
     ],
     "prompt_number": 15
    }
   ],
   "metadata": {}
  }
 ]
}