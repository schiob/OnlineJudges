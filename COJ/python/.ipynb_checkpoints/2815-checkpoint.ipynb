{
 "metadata": {
  "name": "",
  "signature": "sha256:0b52d6d2b42b9ca89fe39029ae9fec4843c4756a2b45a0b8e6cacceeb8b1a16a"
 },
 "nbformat": 3,
 "nbformat_minor": 0,
 "worksheets": [
  {
   "cells": [
    {
     "cell_type": "code",
     "collapsed": false,
     "input": [
      "tests = int(raw_input())\n",
      "for x in xrange(tests):\n",
      "    print x\n",
      "    res = 0\n",
      "    t, p = raw_input().split(' ')\n",
      "    #while p in t:\n",
      "    res += 1\n",
      "    t.replace(p, \"\", 1)\n",
      "    print t, p, res"
     ],
     "language": "python",
     "metadata": {},
     "outputs": [
      {
       "name": "stdout",
       "output_type": "stream",
       "stream": "stdout",
       "text": [
        "1\n"
       ]
      },
      {
       "output_type": "stream",
       "stream": "stdout",
       "text": [
        "0\n"
       ]
      },
      {
       "name": "stdout",
       "output_type": "stream",
       "stream": "stdout",
       "text": [
        "asdf as\n"
       ]
      },
      {
       "output_type": "stream",
       "stream": "stdout",
       "text": [
        "asdf as\n"
       ]
      }
     ],
     "prompt_number": 1
    }
   ],
   "metadata": {}
  }
 ]
}