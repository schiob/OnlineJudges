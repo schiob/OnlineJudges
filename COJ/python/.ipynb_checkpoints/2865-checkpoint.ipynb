{
 "metadata": {
  "name": "",
  "signature": "sha256:b92a4a7451734d66d6cf65693f884060606fe12d8592346ed6612b33558629a7"
 },
 "nbformat": 3,
 "nbformat_minor": 0,
 "worksheets": [
  {
   "cells": [
    {
     "cell_type": "code",
     "collapsed": false,
     "input": [
      "line = raw_input()\n",
      "linen = line[1:]\n",
      "linen += line[0]\n",
      "test = [x for x in zip(line, linen) if x[0] == '0']\n",
      "dead = filter(lambda x: x[1] == '0', test)\n",
      "nDead = len(dead)\n",
      "nLive = len(test) - nDead\n",
      "if nDead > nLive and nLive != 0:\n",
      "    print 'SHOOT'\n",
      "elif nDead < nLive:\n",
      "    print 'ROTATE'\n",
      "else:\n",
      "    print 'EQUAL'"
     ],
     "language": "python",
     "metadata": {},
     "outputs": [
      {
       "name": "stdout",
       "output_type": "stream",
       "stream": "stdout",
       "text": [
        "0000\n"
       ]
      },
      {
       "output_type": "stream",
       "stream": "stdout",
       "text": [
        "EQUAL\n",
        "4 0\n"
       ]
      }
     ],
     "prompt_number": 22
    }
   ],
   "metadata": {}
  }
 ]
}