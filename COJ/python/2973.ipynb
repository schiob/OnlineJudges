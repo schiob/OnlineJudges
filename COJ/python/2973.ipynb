{
 "metadata": {
  "name": "",
  "signature": "sha256:fb801fdafc701ed6465644a821bc2e877a7aa18eb8f765e82f9c98005e464d45"
 },
 "nbformat": 3,
 "nbformat_minor": 0,
 "worksheets": [
  {
   "cells": [
    {
     "cell_type": "code",
     "collapsed": false,
     "input": [
      "from itertools import cycle\n",
      "\n",
      "line = raw_input()\n",
      "while line !='0':\n",
      "    line = line.split(' ')\n",
      "    n = int(line[0])\n",
      "    line = sorted([x for x in line[1:] if x!='0'])\n",
      "    res = ['', '']\n",
      "    li = cycle([0,1])\n",
      "    res[li.next()] += line.pop(0)\n",
      "    res[li.next()] += line.pop(0)\n",
      "\n",
      "    for x in xrange(n-len(line)-2):\n",
      "        res[li.next()] += '0'\n",
      "    for x in line:\n",
      "        res[li.next()] += x\n",
      "        \n",
      "    print eval(res[0]+'+'+res[1])\n",
      "    line = raw_input()\n",
      "    \n",
      "\"\"\"\n",
      "9 1 1 1 0 0 0 0 0 9\n",
      "2 9 8\n",
      "2 0 0\n",
      "2 1 0\n",
      "10 0 1 2 3 4 5 6 7 8 9\n",
      "14 0 1 2 3 4 5 6 7 8 9 0 1 2 3\n",
      "14 5 5 5 5 5 6 6 6 6 6 9 9 9 9\n",
      "14 1 0 0 0 0 0 0 0 0 0 0 0 7 0\n",
      "5 4 4 4 4 4\n",
      "5 4 4 5 7 6\n",
      "8 9 8 7 3 4 1 1 0\n",
      "9 9 1 1 1 1 0 0 0 7\n",
      "3 1 0 3\n",
      "4 2 2 0 1\n",
      "0\n",
      "\"\"\""
     ],
     "language": "python",
     "metadata": {},
     "outputs": [
      {
       "name": "stdout",
       "output_type": "stream",
       "stream": "stdout",
       "text": [
        "10 0 1 2 3 4 5 6 7 8 9\n"
       ]
      },
      {
       "output_type": "stream",
       "stream": "stdout",
       "text": [
        "34047\n"
       ]
      },
      {
       "name": "stdout",
       "output_type": "stream",
       "stream": "stdout",
       "text": [
        "14 0 1 2 3 4 5 6 7 8 9 0 1 2 3\n"
       ]
      },
      {
       "output_type": "stream",
       "stream": "stdout",
       "text": [
        "2047047\n"
       ]
      },
      {
       "name": "stdout",
       "output_type": "stream",
       "stream": "stdout",
       "text": [
        "14 5 5 5 5 5 6 6 6 6 6 9 9 9 9\n"
       ]
      },
      {
       "output_type": "stream",
       "stream": "stdout",
       "text": [
        "11123398\n"
       ]
      },
      {
       "name": "stdout",
       "output_type": "stream",
       "stream": "stdout",
       "text": [
        "14 1 0 0 0 0 0 0 0 0 0 0 0 7 0\n"
       ]
      },
      {
       "output_type": "stream",
       "stream": "stdout",
       "text": [
        "8000000\n"
       ]
      },
      {
       "name": "stdout",
       "output_type": "stream",
       "stream": "stdout",
       "text": [
        "5 4 4 4 4 4\n"
       ]
      },
      {
       "output_type": "stream",
       "stream": "stdout",
       "text": [
        "488\n"
       ]
      },
      {
       "name": "stdout",
       "output_type": "stream",
       "stream": "stdout",
       "text": [
        "5 4 4 5 7 6\n"
       ]
      },
      {
       "output_type": "stream",
       "stream": "stdout",
       "text": [
        "503\n"
       ]
      },
      {
       "name": "stdout",
       "output_type": "stream",
       "stream": "stdout",
       "text": [
        "8 9 8 7 3 4 1 1 0\n"
       ]
      },
      {
       "output_type": "stream",
       "stream": "stdout",
       "text": [
        "2427\n"
       ]
      },
      {
       "name": "stdout",
       "output_type": "stream",
       "stream": "stdout",
       "text": [
        "9 9 1 1 1 1 0 0 0 7\n"
       ]
      },
      {
       "output_type": "stream",
       "stream": "stdout",
       "text": [
        "11036\n"
       ]
      },
      {
       "name": "stdout",
       "output_type": "stream",
       "stream": "stdout",
       "text": [
        "3 1 0 3\n"
       ]
      },
      {
       "output_type": "stream",
       "stream": "stdout",
       "text": [
        "13\n"
       ]
      },
      {
       "name": "stdout",
       "output_type": "stream",
       "stream": "stdout",
       "text": [
        "4 2 2 0 1\n"
       ]
      },
      {
       "output_type": "stream",
       "stream": "stdout",
       "text": [
        "32\n"
       ]
      },
      {
       "name": "stdout",
       "output_type": "stream",
       "stream": "stdout",
       "text": [
        "0\n"
       ]
      },
      {
       "metadata": {},
       "output_type": "pyout",
       "prompt_number": 3,
       "text": [
        "'\\n9 1 1 1 0 0 0 0 0 9\\n2 9 8\\n2 0 0\\n2 1 0\\n10 0 1 2 3 4 5 6 7 8 9\\n14 0 1 2 3 4 5 6 7 8 9 0 1 2 3\\n14 5 5 5 5 5 6 6 6 6 6 9 9 9 9\\n14 1 0 0 0 0 0 0 0 0 0 0 0 7 0\\n5 4 4 4 4 4\\n5 4 4 5 7 6\\n8 9 8 7 3 4 1 1 0\\n9 9 1 1 1 1 0 0 0 7\\n3 1 0 3\\n4 2 2 0 1\\n0\\n'"
       ]
      }
     ],
     "prompt_number": 3
    }
   ],
   "metadata": {}
  }
 ]
}