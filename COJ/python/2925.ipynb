{
 "metadata": {
  "name": "",
  "signature": "sha256:c53c744051d77fa9f649c1b44facf340a3eacfb3250411e927cc9a8297aa8465"
 },
 "nbformat": 3,
 "nbformat_minor": 0,
 "worksheets": [
  {
   "cells": [
    {
     "cell_type": "code",
     "collapsed": false,
     "input": [
      "n = int(raw_input())\n",
      "for x in xrange(n):\n",
      "    cont = 0\n",
      "    a, b = map(int, raw_input().split(' '))\n",
      "    while a != b:\n",
      "        if a > b:\n",
      "            a /= 2\n",
      "            cont += 1\n",
      "        elif a < b:\n",
      "            a += 1\n",
      "            cont += 1\n",
      "    print cont"
     ],
     "language": "python",
     "metadata": {},
     "outputs": [
      {
       "name": "stdout",
       "output_type": "stream",
       "stream": "stdout",
       "text": [
        "2\n"
       ]
      },
      {
       "name": "stdout",
       "output_type": "stream",
       "stream": "stdout",
       "text": [
        "11 12\n"
       ]
      },
      {
       "output_type": "stream",
       "stream": "stdout",
       "text": [
        "1\n"
       ]
      },
      {
       "name": "stdout",
       "output_type": "stream",
       "stream": "stdout",
       "text": [
        "11 5\n"
       ]
      },
      {
       "output_type": "stream",
       "stream": "stdout",
       "text": [
        "1\n"
       ]
      }
     ],
     "prompt_number": 2
    }
   ],
   "metadata": {}
  }
 ]
}