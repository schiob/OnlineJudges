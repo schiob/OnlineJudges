{
 "metadata": {
  "name": "",
  "signature": "sha256:2f159a8b914e12260e9f0a7f54c6df3fa7ecee110a65ae5d1e482721485c8329"
 },
 "nbformat": 3,
 "nbformat_minor": 0,
 "worksheets": [
  {
   "cells": [
    {
     "cell_type": "code",
     "collapsed": false,
     "input": [
      "while True:\n",
      "    try:\n",
      "        n = int(raw_input())\n",
      "        lista = [1]\n",
      "        for x in xrange(1, n):\n",
      "            lista.append(lista[-1]+x)\n",
      "        l = ' '.join(map(str, reversed(lista)))\n",
      "        print l\n",
      "    except:\n",
      "        break"
     ],
     "language": "python",
     "metadata": {},
     "outputs": [
      {
       "name": "stdout",
       "output_type": "stream",
       "stream": "stdout",
       "text": [
        "4\n"
       ]
      },
      {
       "output_type": "stream",
       "stream": "stdout",
       "text": [
        "7 4 2 1\n"
       ]
      },
      {
       "name": "stdout",
       "output_type": "stream",
       "stream": "stdout",
       "text": [
        "f\n"
       ]
      }
     ],
     "prompt_number": 4
    }
   ],
   "metadata": {}
  }
 ]
}