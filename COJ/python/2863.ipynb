{
 "metadata": {
  "name": "",
  "signature": "sha256:2d07bf96204273b4012e31194ebd0b0fb0238d960c9fdf421dad134457a28603"
 },
 "nbformat": 3,
 "nbformat_minor": 0,
 "worksheets": [
  {
   "cells": [
    {
     "cell_type": "code",
     "collapsed": false,
     "input": [
      "ope1 = raw_input()\n",
      "op = raw_input()\n",
      "ope2 = raw_input()\n",
      "\n",
      "if op == '/' and len(ope1) < len(ope2):\n",
      "    print format(eval(ope1+op+ope2+'.0'), '.{}f'.format(len(ope2)-len(ope1)))\n",
      "else:\n",
      "    print eval(ope1+op+ope2)"
     ],
     "language": "python",
     "metadata": {},
     "outputs": [
      {
       "name": "stdout",
       "output_type": "stream",
       "stream": "stdout",
       "text": [
        "1\n"
       ]
      },
      {
       "name": "stdout",
       "output_type": "stream",
       "stream": "stdout",
       "text": [
        "/\n"
       ]
      },
      {
       "name": "stdout",
       "output_type": "stream",
       "stream": "stdout",
       "text": [
        "1000000\n"
       ]
      },
      {
       "output_type": "stream",
       "stream": "stdout",
       "text": [
        "0.000001\n"
       ]
      }
     ],
     "prompt_number": 19
    }
   ],
   "metadata": {}
  }
 ]
}