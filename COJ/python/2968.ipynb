{
 "metadata": {
  "name": "",
  "signature": "sha256:d7d3a6d8db5ee6b8dd5cdf76eb1102d67e8839aceefba833ce3290cc4bcca58f"
 },
 "nbformat": 3,
 "nbformat_minor": 0,
 "worksheets": [
  {
   "cells": [
    {
     "cell_type": "code",
     "collapsed": false,
     "input": [
      "from itertools import permutations\n",
      "def calc(nums):\n",
      "    nums.sort()\n",
      "    for per in permutations(nums, 6):\n",
      "        \n",
      "        if (per[0] == per[1]+per[2]+per[3]+per[4]+per[5] or\n",
      "            per[0]+per[1] == per[2]+per[3]+per[4]+per[5] or\n",
      "            per[0]+per[1]+per[2] == per[3]+per[4]+per[5] or\n",
      "            per[0]+per[1]+per[2]+per[3] == per[4]+per[5] or\n",
      "            per[0]+per[1]+per[2]+per[3]+per[4] == per[5]):\n",
      "            return 'Tobby puede cruzar'\n",
      "    return 'Tobby no puede cruzar'\n",
      "        \n",
      "for x in xrange(int(raw_input())):\n",
      "    nums = map(int, raw_input().split(' '))\n",
      "    print calc(nums)\n",
      "            "
     ],
     "language": "python",
     "metadata": {},
     "outputs": [
      {
       "name": "stdout",
       "output_type": "stream",
       "stream": "stdout",
       "text": [
        "4\n"
       ]
      },
      {
       "name": "stdout",
       "output_type": "stream",
       "stream": "stdout",
       "text": [
        "1 3 3 2 1 2\n"
       ]
      },
      {
       "output_type": "stream",
       "stream": "stdout",
       "text": [
        "Tobby puede cruzar\n"
       ]
      },
      {
       "name": "stdout",
       "output_type": "stream",
       "stream": "stdout",
       "text": [
        "6 3 2 4 5 1\n"
       ]
      },
      {
       "output_type": "stream",
       "stream": "stdout",
       "text": [
        "Tobby no puede cruzar\n"
       ]
      },
      {
       "name": "stdout",
       "output_type": "stream",
       "stream": "stdout",
       "text": [
        "3 3 3 3 3 3\n"
       ]
      },
      {
       "output_type": "stream",
       "stream": "stdout",
       "text": [
        "Tobby puede cruzar\n"
       ]
      },
      {
       "name": "stdout",
       "output_type": "stream",
       "stream": "stdout",
       "text": [
        "1 1 1 1 1 5\n"
       ]
      },
      {
       "output_type": "stream",
       "stream": "stdout",
       "text": [
        "Tobby puede cruzar\n"
       ]
      }
     ],
     "prompt_number": 3
    }
   ],
   "metadata": {}
  }
 ]
}