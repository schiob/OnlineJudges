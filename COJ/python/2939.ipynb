{
 "metadata": {
  "name": "",
  "signature": "sha256:aacd8ca6afe613126831f47c0587ab81e4fef59106e85d6a413932735bb42761"
 },
 "nbformat": 3,
 "nbformat_minor": 0,
 "worksheets": [
  {
   "cells": [
    {
     "cell_type": "code",
     "collapsed": false,
     "input": [
      "n = int(raw_input())\n",
      "for x in xrange(n):\n",
      "    num = int(raw_input())\n",
      "    numB = bin(num)\n",
      "    if numB.find('0',2) > 0:\n",
      "        print 'YES'\n",
      "    else:\n",
      "        print 'NO'"
     ],
     "language": "python",
     "metadata": {},
     "outputs": [
      {
       "name": "stdout",
       "output_type": "stream",
       "stream": "stdout",
       "text": [
        "2\n"
       ]
      },
      {
       "name": "stdout",
       "output_type": "stream",
       "stream": "stdout",
       "text": [
        "1\n"
       ]
      },
      {
       "output_type": "stream",
       "stream": "stdout",
       "text": [
        "NO\n"
       ]
      },
      {
       "name": "stdout",
       "output_type": "stream",
       "stream": "stdout",
       "text": [
        "2\n"
       ]
      },
      {
       "output_type": "stream",
       "stream": "stdout",
       "text": [
        "YES\n"
       ]
      }
     ],
     "prompt_number": 5
    }
   ],
   "metadata": {}
  }
 ]
}