{
 "metadata": {
  "name": "",
  "signature": "sha256:c4993cf995db41a015d9ecf59d9b4dde5d315e5426b2358c51cacf3c16c5da7b"
 },
 "nbformat": 3,
 "nbformat_minor": 0,
 "worksheets": [
  {
   "cells": [
    {
     "cell_type": "code",
     "collapsed": false,
     "input": [
      "from itertools import chain, combinations\n",
      "n = int(raw_input())\n",
      "\n",
      "def powerset(iterable):\n",
      "    \"powerset([1,2,3]) --> () (1,) (2,) (3,) (1,2) (1,3) (2,3) (1,2,3)\"\n",
      "    s = list(iterable)\n",
      "    return chain.from_iterable(combinations(s, r) for r in range(len(s)+1))\n",
      "line = map(int, raw_input().split(' '))\n",
      "\n",
      "line = list(powerset(line))\n",
      "sums = [sum(x) for x in line]\n",
      "cont = 0\n",
      "for s in sums:\n",
      "    if s%3 == 0:\n",
      "        cont += 1\n",
      "print cont -1\n"
     ],
     "language": "python",
     "metadata": {},
     "outputs": [
      {
       "name": "stdout",
       "output_type": "stream",
       "stream": "stdout",
       "text": [
        "3\n"
       ]
      },
      {
       "name": "stdout",
       "output_type": "stream",
       "stream": "stdout",
       "text": [
        "1 2 3\n"
       ]
      },
      {
       "output_type": "stream",
       "stream": "stdout",
       "text": [
        "3\n"
       ]
      }
     ],
     "prompt_number": 11
    }
   ],
   "metadata": {}
  }
 ]
}