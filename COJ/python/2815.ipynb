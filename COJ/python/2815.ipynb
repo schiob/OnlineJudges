{
 "metadata": {
  "name": "",
  "signature": "sha256:532c6fc021b415b1a2881d9ca75af142ca45b2762a9987ef9287212a6cb7f655"
 },
 "nbformat": 3,
 "nbformat_minor": 0,
 "worksheets": [
  {
   "cells": [
    {
     "cell_type": "code",
     "collapsed": false,
     "input": [
      "tests = int(raw_input())\n",
      "for x in xrange(tests):\n",
      "    res = 0\n",
      "    t, p = raw_input().split(' ')\n",
      "    while p in t:\n",
      "        res += 1\n",
      "        t = t.replace(p, \"\", 1)\n",
      "    print res"
     ],
     "language": "python",
     "metadata": {},
     "outputs": [
      {
       "name": "stdout",
       "output_type": "stream",
       "stream": "stdout",
       "text": [
        "1\n"
       ]
      },
      {
       "output_type": "stream",
       "stream": "stdout",
       "text": [
        "0\n"
       ]
      },
      {
       "name": "stdout",
       "output_type": "stream",
       "stream": "stdout",
       "text": [
        "aabcbcz abc\n"
       ]
      },
      {
       "output_type": "stream",
       "stream": "stdout",
       "text": [
        "2\n"
       ]
      }
     ],
     "prompt_number": 3
    }
   ],
   "metadata": {}
  }
 ]
}