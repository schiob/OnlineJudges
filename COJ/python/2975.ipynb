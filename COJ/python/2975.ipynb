{
 "metadata": {
  "name": "",
  "signature": "sha256:20232b1ebbfefc7ddf6de703cb6f27f1647689520ca6abc2cc2b04c9bf67655f"
 },
 "nbformat": 3,
 "nbformat_minor": 0,
 "worksheets": [
  {
   "cells": [
    {
     "cell_type": "code",
     "collapsed": false,
     "input": [
      "line = raw_input()\n",
      "while line != '0':\n",
      "    n, p = map(int, line.split(' '))\n",
      "    res = list()\n",
      "    if p <= n/2:\n",
      "        if p%2 != 0:\n",
      "            nex = p+(abs(((p+1)/2)-(n/4)) * 4)+2\n",
      "            res = [p+1, nex, nex+1]\n",
      "        else:\n",
      "            nex = p+(abs((p/2)-(n/4)) * 4)+1\n",
      "            res = [p-1, nex, nex+1]\n",
      "    else:\n",
      "        if p%2 != 0:\n",
      "            nex = p-(abs(((p+1)/2)-(n/4)-1) * 4)-2\n",
      "            res = [nex, nex+1, p+1]\n",
      "        else:\n",
      "            nex = p-(abs(((p)/2)-(n/4)-1) * 4)-3\n",
      "            res = [nex, nex+1, p-1]\n",
      "    print '{} {} {}'.format(res[0], res[1], res[2])\n",
      "    line = raw_input()"
     ],
     "language": "python",
     "metadata": {},
     "outputs": [
      {
       "name": "stdout",
       "output_type": "stream",
       "stream": "stdout",
       "text": [
        "12 7\n"
       ]
      },
      {
       "output_type": "stream",
       "stream": "stdout",
       "text": [
        "5 6 8\n"
       ]
      },
      {
       "name": "stdout",
       "output_type": "stream",
       "stream": "stdout",
       "text": [
        "12 8\n"
       ]
      },
      {
       "output_type": "stream",
       "stream": "stdout",
       "text": [
        "5 6 7\n"
       ]
      },
      {
       "name": "stdout",
       "output_type": "stream",
       "stream": "stdout",
       "text": [
        "12 9\n"
       ]
      },
      {
       "output_type": "stream",
       "stream": "stdout",
       "text": [
        "3 4 10\n"
       ]
      },
      {
       "name": "stdout",
       "output_type": "stream",
       "stream": "stdout",
       "text": [
        "12 10\n"
       ]
      },
      {
       "output_type": "stream",
       "stream": "stdout",
       "text": [
        "3 4 9\n"
       ]
      },
      {
       "name": "stdout",
       "output_type": "stream",
       "stream": "stdout",
       "text": [
        "12 11\n"
       ]
      },
      {
       "output_type": "stream",
       "stream": "stdout",
       "text": [
        "1 2 12\n"
       ]
      },
      {
       "name": "stdout",
       "output_type": "stream",
       "stream": "stdout",
       "text": [
        "12 12\n"
       ]
      },
      {
       "output_type": "stream",
       "stream": "stdout",
       "text": [
        "1 2 11\n"
       ]
      },
      {
       "name": "stdout",
       "output_type": "stream",
       "stream": "stdout",
       "text": [
        "0\n"
       ]
      }
     ],
     "prompt_number": 2
    }
   ],
   "metadata": {}
  }
 ]
}