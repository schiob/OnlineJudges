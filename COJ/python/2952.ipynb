{
 "metadata": {
  "name": "",
  "signature": "sha256:7b31d7aa169b894e82ddaa5b4a5f7c682d49deef13d4bdc128a5c29edf236219"
 },
 "nbformat": 3,
 "nbformat_minor": 0,
 "worksheets": [
  {
   "cells": [
    {
     "cell_type": "code",
     "collapsed": false,
     "input": [
      "from bisect import bisect_right\n",
      "\n",
      "def make_sum(lista):\n",
      "    suma = list()\n",
      "    aux = 0\n",
      "    for tank in lista[1:]:\n",
      "        aux += tank\n",
      "        suma.append(aux)\n",
      "    return suma\n",
      "    \n",
      "    \n",
      "    \n",
      "while True:\n",
      "    try:\n",
      "        n,q = raw_input().split(' ')\n",
      "        nums = list()\n",
      "\n",
      "        tanks = map(int, raw_input().split(' '))\n",
      "        sum_tanks = make_sum(tanks)\n",
      "        querys = map(int, raw_input().split(' '))\n",
      "        if len(tanks) != 1:\n",
      "            for query in querys:\n",
      "                nums.append(bisect_right(sum_tanks, query-1)+1)\n",
      "        elif len(tanks) == 1:\n",
      "            for x in xrange(len(querys)):\n",
      "                nums.append(1)\n",
      "        print ' '.join(map(str,nums))\n",
      "    except:\n",
      "        break\n",
      "    "
     ],
     "language": "python",
     "metadata": {},
     "outputs": [
      {
       "name": "stdout",
       "output_type": "stream",
       "stream": "stdout",
       "text": [
        "5 2\n"
       ]
      },
      {
       "name": "stdout",
       "output_type": "stream",
       "stream": "stdout",
       "text": [
        "5 1 10 3 12\n"
       ]
      },
      {
       "name": "stdout",
       "output_type": "stream",
       "stream": "stdout",
       "text": [
        "16 1\n"
       ]
      },
      {
       "output_type": "stream",
       "stream": "stdout",
       "text": [
        "4 1\n"
       ]
      },
      {
       "name": "stdout",
       "output_type": "stream",
       "stream": "stdout",
       "text": [
        "5\n"
       ]
      }
     ],
     "prompt_number": 2
    }
   ],
   "metadata": {}
  }
 ]
}