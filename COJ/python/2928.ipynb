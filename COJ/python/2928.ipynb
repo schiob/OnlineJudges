{
 "metadata": {
  "name": "",
  "signature": "sha256:e54cde421b897cce8f1d73438492e78a8f2c86c3e12082e2c2cd66b4bb6c7960"
 },
 "nbformat": 3,
 "nbformat_minor": 0,
 "worksheets": [
  {
   "cells": [
    {
     "cell_type": "code",
     "collapsed": false,
     "input": [
      "d, k = map(int, raw_input().split(' '))\n",
      "while d != 0:\n",
      "    if d == 1:\n",
      "        dif = [1,3,5,7,9,11,13,15,17]\n",
      "        if k%9 == 0:\n",
      "            val = (sum(dif)*(k/9))\n",
      "        else:\n",
      "            val = (sum(dif)*(k/9)) + (sum(dif[:k%9]))\n",
      "        print val\n",
      "        \n",
      "    elif d == 2:\n",
      "        dif = [4,12,11,10,9,8,7,6,14]\n",
      "        if k%9 == 0:\n",
      "            val = (sum(dif)*(k/9))\n",
      "        else:\n",
      "            val = (sum(dif)*(k/9)) + (sum(dif[:k%9]))\n",
      "        print val\n",
      "    \n",
      "    elif d == 4:\n",
      "        dif = [7,12,8,13,9,5,10,6,11]\n",
      "        if k%9 == 0:\n",
      "            val = (sum(dif)*(k/9))\n",
      "        else:\n",
      "            val = (sum(dif)*(k/9)) + (sum(dif[:k%9]))\n",
      "        print val\n",
      "    \n",
      "    elif d == 5:\n",
      "        dif = [7,3,8,13,9,5,10,15,11]\n",
      "        if k%9 == 0:\n",
      "            val = (sum(dif)*(k/9))\n",
      "        else:\n",
      "            val = (sum(dif)*(k/9)) + (sum(dif[:k%9]))\n",
      "        print val\n",
      "    \n",
      "    elif d == 7:\n",
      "        dif = [13,12,2,10,9,8,7,15,5]\n",
      "        if k%9 == 0:\n",
      "            val = (sum(dif)*(k/9))\n",
      "        else:\n",
      "            val = (sum(dif)*(k/9)) + (sum(dif[:k%9]))\n",
      "        print val\n",
      "\n",
      "    elif d == 8:\n",
      "        dif = [10,12,14,16,-9,11,13,6,8]\n",
      "        if k%9 == 0:\n",
      "            val = (sum(dif)*(k/9))\n",
      "        else:\n",
      "            val = (sum(dif)*(k/9)) + (sum(dif[:k%9]))\n",
      "        print val\n",
      "    \n",
      "    elif d == 9 or d == 3 or d == 6:\n",
      "        dif = [9,9,9,9,9,9,9,9,9]\n",
      "        if k%9 == 0:\n",
      "            val = (sum(dif)*(k/9))\n",
      "        else:\n",
      "            val = (sum(dif)*(k/9)) + (sum(dif[:k%9]))\n",
      "        print val\n",
      "    \n",
      "    d, k = map(int, raw_input().split(' '))"
     ],
     "language": "python",
     "metadata": {},
     "outputs": [
      {
       "name": "stdout",
       "output_type": "stream",
       "stream": "stdout",
       "text": [
        "1 1\n"
       ]
      },
      {
       "output_type": "stream",
       "stream": "stdout",
       "text": [
        "1\n"
       ]
      },
      {
       "name": "stdout",
       "output_type": "stream",
       "stream": "stdout",
       "text": [
        "1 2\n"
       ]
      },
      {
       "output_type": "stream",
       "stream": "stdout",
       "text": [
        "4\n"
       ]
      },
      {
       "name": "stdout",
       "output_type": "stream",
       "stream": "stdout",
       "text": [
        "1 8\n"
       ]
      },
      {
       "output_type": "stream",
       "stream": "stdout",
       "text": [
        "64\n"
       ]
      },
      {
       "name": "stdout",
       "output_type": "stream",
       "stream": "stdout",
       "text": [
        "1 9\n"
       ]
      },
      {
       "output_type": "stream",
       "stream": "stdout",
       "text": [
        "81\n"
       ]
      },
      {
       "name": "stdout",
       "output_type": "stream",
       "stream": "stdout",
       "text": [
        "1 10\n"
       ]
      },
      {
       "output_type": "stream",
       "stream": "stdout",
       "text": [
        "82\n"
       ]
      },
      {
       "name": "stdout",
       "output_type": "stream",
       "stream": "stdout",
       "text": [
        "1 11\n"
       ]
      },
      {
       "output_type": "stream",
       "stream": "stdout",
       "text": [
        "85\n"
       ]
      },
      {
       "name": "stdout",
       "output_type": "stream",
       "stream": "stdout",
       "text": [
        "1 8\n"
       ]
      },
      {
       "output_type": "stream",
       "stream": "stdout",
       "text": [
        "64\n"
       ]
      },
      {
       "name": "stdout",
       "output_type": "stream",
       "stream": "stdout",
       "text": [
        "0 0\n"
       ]
      }
     ],
     "prompt_number": 1
    },
    {
     "cell_type": "code",
     "collapsed": false,
     "input": [
      "\"\"\"d, k = map(int, raw_input().split(' '))\n",
      "while d != 0:\n",
      "    num = '{}'.format(d)*k\n",
      "    print sum(map(int,str(int(num)**2)))\n",
      "    d, k = map(int, raw_input().split(' '))\n",
      "\n",
      "def fun(d, k):\n",
      "    lista = list()\n",
      "    for x in xrange(1, k+1):\n",
      "        num = '{}'.format(d)*x\n",
      "        lista.append(sum(map(int,str(int(num)**2))))\n",
      "    for n, ne in zip(lista[1:], lista[:-1]):\n",
      "        print n-ne\n",
      " \"\"\"       \n",
      "    "
     ],
     "language": "python",
     "metadata": {},
     "outputs": [
      {
       "name": "stdout",
       "output_type": "stream",
       "stream": "stdout",
       "text": [
        "1 1\n"
       ]
      },
      {
       "output_type": "stream",
       "stream": "stdout",
       "text": [
        "1\n"
       ]
      },
      {
       "name": "stdout",
       "output_type": "stream",
       "stream": "stdout",
       "text": [
        "1 2\n"
       ]
      },
      {
       "output_type": "stream",
       "stream": "stdout",
       "text": [
        "4\n"
       ]
      },
      {
       "name": "stdout",
       "output_type": "stream",
       "stream": "stdout",
       "text": [
        "1 3\n"
       ]
      },
      {
       "output_type": "stream",
       "stream": "stdout",
       "text": [
        "9\n"
       ]
      },
      {
       "name": "stdout",
       "output_type": "stream",
       "stream": "stdout",
       "text": [
        "1 4\n"
       ]
      },
      {
       "output_type": "stream",
       "stream": "stdout",
       "text": [
        "16\n"
       ]
      },
      {
       "name": "stdout",
       "output_type": "stream",
       "stream": "stdout",
       "text": [
        "1 5\n"
       ]
      },
      {
       "output_type": "stream",
       "stream": "stdout",
       "text": [
        "25\n"
       ]
      },
      {
       "name": "stdout",
       "output_type": "stream",
       "stream": "stdout",
       "text": [
        "1 6\n"
       ]
      },
      {
       "output_type": "stream",
       "stream": "stdout",
       "text": [
        "36\n"
       ]
      },
      {
       "name": "stdout",
       "output_type": "stream",
       "stream": "stdout",
       "text": [
        "1 7\n"
       ]
      },
      {
       "output_type": "stream",
       "stream": "stdout",
       "text": [
        "49\n"
       ]
      },
      {
       "name": "stdout",
       "output_type": "stream",
       "stream": "stdout",
       "text": [
        "1 8\n"
       ]
      },
      {
       "output_type": "stream",
       "stream": "stdout",
       "text": [
        "64\n"
       ]
      },
      {
       "name": "stdout",
       "output_type": "stream",
       "stream": "stdout",
       "text": [
        "1 9\n"
       ]
      },
      {
       "output_type": "stream",
       "stream": "stdout",
       "text": [
        "81\n"
       ]
      },
      {
       "name": "stdout",
       "output_type": "stream",
       "stream": "stdout",
       "text": [
        "1 10\n"
       ]
      },
      {
       "output_type": "stream",
       "stream": "stdout",
       "text": [
        "82\n"
       ]
      },
      {
       "name": "stdout",
       "output_type": "stream",
       "stream": "stdout",
       "text": [
        "1 11\n"
       ]
      },
      {
       "output_type": "stream",
       "stream": "stdout",
       "text": [
        "85\n"
       ]
      },
      {
       "name": "stdout",
       "output_type": "stream",
       "stream": "stdout",
       "text": [
        "0 0\n"
       ]
      }
     ],
     "prompt_number": 48
    }
   ],
   "metadata": {}
  }
 ]
}