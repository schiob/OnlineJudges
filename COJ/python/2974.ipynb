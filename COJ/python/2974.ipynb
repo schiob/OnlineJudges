{
 "metadata": {
  "name": "",
  "signature": "sha256:0184aee5f6b1386a9c12812a7efe414a82df1a9fd4e04ba411459789e18db418"
 },
 "nbformat": 3,
 "nbformat_minor": 0,
 "worksheets": [
  {
   "cells": [
    {
     "cell_type": "code",
     "collapsed": false,
     "input": [
      "from itertools import izip_longest\n",
      "\n",
      "ALPHA = ''\n",
      "def comper(B, A):\n",
      "    for pair in izip_longest(A, B, fillvalue='-'):\n",
      "        if pair[0] == '-':\n",
      "            return 1\n",
      "        elif pair[1] == '-':\n",
      "            return -1\n",
      "        elif ALPHA.index(pair[0]) < ALPHA.index(pair[1]):\n",
      "            return 1\n",
      "        elif ALPHA.index(pair[0]) > ALPHA.index(pair[1]):\n",
      "            return -1\n",
      "    return 0\n",
      "\n",
      "line = raw_input()\n",
      "count = 1\n",
      "while line != '0':\n",
      "    n, ALPHA = line.split(' ')\n",
      "    lista = list()\n",
      "    for x in xrange(int(n)):\n",
      "        lista.append(raw_input())\n",
      "    \n",
      "    print 'year {}'.format(count)\n",
      "    count += 1\n",
      "    for pal in sorted(lista, cmp=comper):\n",
      "        print pal\n",
      "    line = raw_input()\n",
      "        \n",
      "\"\"\"\n",
      "10 HABCDEFGIJKLMNOPQRSTUVWXYZ\n",
      "HEY\n",
      "HELLO\n",
      "HEYA\n",
      "HAHA\n",
      "HAHO\n",
      "ALOHA\n",
      "ALONDRA\n",
      "ALONSO\n",
      "ALONE\n",
      "ALURIA\n",
      "\"\"\""
     ],
     "language": "python",
     "metadata": {},
     "outputs": [
      {
       "name": "stdout",
       "output_type": "stream",
       "stream": "stdout",
       "text": [
        "10 HABCDEFGIJKLMNOPQRSTUVWXYZ\n"
       ]
      },
      {
       "name": "stdout",
       "output_type": "stream",
       "stream": "stdout",
       "text": [
        "HEY\n"
       ]
      },
      {
       "name": "stdout",
       "output_type": "stream",
       "stream": "stdout",
       "text": [
        "HELLO\n"
       ]
      },
      {
       "name": "stdout",
       "output_type": "stream",
       "stream": "stdout",
       "text": [
        "HEYA\n"
       ]
      },
      {
       "name": "stdout",
       "output_type": "stream",
       "stream": "stdout",
       "text": [
        "HAHA\n"
       ]
      },
      {
       "name": "stdout",
       "output_type": "stream",
       "stream": "stdout",
       "text": [
        "HAHO\n"
       ]
      },
      {
       "name": "stdout",
       "output_type": "stream",
       "stream": "stdout",
       "text": [
        "ALOHA\n"
       ]
      },
      {
       "name": "stdout",
       "output_type": "stream",
       "stream": "stdout",
       "text": [
        "ALONDRA\n"
       ]
      },
      {
       "name": "stdout",
       "output_type": "stream",
       "stream": "stdout",
       "text": [
        "ALONSO\n"
       ]
      },
      {
       "name": "stdout",
       "output_type": "stream",
       "stream": "stdout",
       "text": [
        "ALONE\n"
       ]
      },
      {
       "name": "stdout",
       "output_type": "stream",
       "stream": "stdout",
       "text": [
        "ALURIA\n"
       ]
      },
      {
       "output_type": "stream",
       "stream": "stdout",
       "text": [
        "year 1\n",
        "HAHA\n",
        "HAHO\n",
        "HELLO\n",
        "HEY\n",
        "HEYA\n",
        "ALOHA\n",
        "ALONDRA\n",
        "ALONE\n",
        "ALONSO\n",
        "ALURIA\n"
       ]
      }
     ]
    }
   ],
   "metadata": {}
  }
 ]
}