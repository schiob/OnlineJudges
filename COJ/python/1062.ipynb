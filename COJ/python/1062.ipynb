{
 "metadata": {
  "name": "",
  "signature": "sha256:eda09972d7d06fb9fb6a331004374a1d1c20f96aa20a37094d390331bc9efbd9"
 },
 "nbformat": 3,
 "nbformat_minor": 0,
 "worksheets": [
  {
   "cells": [
    {
     "cell_type": "code",
     "collapsed": false,
     "input": [
      "a, c = "
     ],
     "language": "python",
     "metadata": {},
     "outputs": []
    }
   ],
   "metadata": {}
  }
 ]
}